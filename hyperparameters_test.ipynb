{
  "nbformat": 4,
  "nbformat_minor": 0,
  "metadata": {
    "colab": {
      "provenance": [],
      "authorship_tag": "ABX9TyP5dxo7gODL0U7v6LgFRHIY",
      "include_colab_link": true
    },
    "kernelspec": {
      "name": "python3",
      "display_name": "Python 3"
    },
    "language_info": {
      "name": "python"
    }
  },
  "cells": [
    {
      "cell_type": "markdown",
      "metadata": {
        "id": "view-in-github",
        "colab_type": "text"
      },
      "source": [
        "<a href=\"https://colab.research.google.com/github/MaCuur/AI_EGs/blob/main/hyperparameters_test.ipynb\" target=\"_parent\"><img src=\"https://colab.research.google.com/assets/colab-badge.svg\" alt=\"Open In Colab\"/></a>"
      ]
    },
    {
      "cell_type": "code",
      "execution_count": 1,
      "metadata": {
        "id": "dmKdmBABtG4Z"
      },
      "outputs": [],
      "source": [
        "import pandas as pd\n",
        "import numpy as np\n",
        "from sklearn.preprocessing import MinMaxScaler\n",
        "from tensorflow.keras.models import Sequential\n",
        "from tensorflow.keras.layers import LSTM, Dense\n",
        "from tensorflow.keras.optimizers import Adam\n",
        "from tensorflow.keras.callbacks import EarlyStopping\n",
        "from sklearn.metrics import mean_absolute_error, mean_squared_error\n",
        "\n"
      ]
    },
    {
      "cell_type": "code",
      "source": [
        "# --- 1. Carga de Datos y Preprocesamiento (Reutilizado) ---\n",
        "try:\n",
        "    data = pd.read_csv(\"9002.csv\", header=0).values\n",
        "    data = data.astype(float).flatten()\n",
        "    data = data[~np.isnan(data)]\n",
        "    precipitation = pd.Series(data)\n",
        "\n",
        "except Exception as e:\n",
        "    print(f\"Error al cargar o preprocesar el archivo CSV: {e}\")\n",
        "    print(\"Asegúrate de que el formato del archivo es el esperado.\")\n",
        "    exit()\n",
        "\n",
        "dataset = precipitation.values.astype('float32').reshape(-1, 1)\n",
        "scaler = MinMaxScaler(feature_range=(0, 1))\n",
        "scaled_dataset = scaler.fit_transform(dataset)\n",
        "N_FEATURES = scaler.n_features_in_\n",
        "\n"
      ],
      "metadata": {
        "id": "OMvF1GRRtOWi"
      },
      "execution_count": 2,
      "outputs": []
    },
    {
      "cell_type": "code",
      "source": [
        "# --- 2. Función de Preparación de Secuencias (Reutilizada) ---\n",
        "def create_sequences(data, time_step, forecast_horizon):\n",
        "    X, Y = [], []\n",
        "    # Nota: Len(data) debe ser mayor que time_step + forecast_horizon - 1\n",
        "    for i in range(len(data) - time_step - forecast_horizon + 1):\n",
        "        a = data[i:(i + time_step), 0]\n",
        "        X.append(a)\n",
        "        Y.append(data[i + time_step + forecast_horizon - 1, 0])\n",
        "    return np.array(X), np.array(Y)\n",
        "\n"
      ],
      "metadata": {
        "id": "ADDVOqEstRut"
      },
      "execution_count": 3,
      "outputs": []
    },
    {
      "cell_type": "code",
      "source": [
        "# --- 3. Definición de Parámetros de Búsqueda ---\n",
        "\n",
        "# Horizontes de interés\n",
        "FORECAST_HORIZONS = [3, 5]\n",
        "\n",
        "# Valores a probar para la Ventana de Entrada (Time Step)\n",
        "TIME_STEPS_TO_TEST = [7, 15, 30, 60]\n",
        "\n",
        "# Valores a probar para la Capacidad del Modelo (Unidades LSTM)\n",
        "LSTM_UNITS_TO_TEST = [50, 100, 150]\n",
        "\n",
        "# Variables para almacenar los mejores resultados\n",
        "best_results = {h: {'mae': float('inf'), 'rmse': float('inf'), 'time_step': 0, 'units': 0} for h in FORECAST_HORIZONS}\n",
        "\n"
      ],
      "metadata": {
        "id": "I9KIOrI6tVvA"
      },
      "execution_count": 4,
      "outputs": []
    },
    {
      "cell_type": "code",
      "source": [
        "# --- 4. Bucle Anidado para Grid Search (Búsqueda de Cuadrícula) ---\n",
        "\n",
        "print(\"🚀 Iniciando Búsqueda de Hiperparámetros (Grid Search)...\")\n",
        "\n",
        "for HORIZON in FORECAST_HORIZONS:\n",
        "    print(f\"\\n=======================================================\")\n",
        "    print(f\"Búsqueda para Horizonte de Predicción: +{HORIZON} día(s)\")\n",
        "    print(f\"=======================================================\")\n",
        "\n",
        "    # Prepara los datos una sola vez para el horizonte actual\n",
        "    X, Y = create_sequences(scaled_dataset, max(TIME_STEPS_TO_TEST), HORIZON)\n",
        "\n",
        "    # Dividir datos (80/20 secuencial)\n",
        "    train_size = int(len(X) * 0.8)\n",
        "    # Ya que el Time_Step varía, solo tomamos el array completo de X e Y y\n",
        "    # la función create_sequences se encargará del padding/truncamiento de la secuencia\n",
        "\n",
        "    for TIME_STEP in TIME_STEPS_TO_TEST:\n",
        "        # Volver a crear X_train y X_test usando el TIME_STEP actual\n",
        "        X_current, Y_current = create_sequences(scaled_dataset, TIME_STEP, HORIZON)\n",
        "\n",
        "        # Volver a dividir con el nuevo tamaño de X, Y\n",
        "        train_size_curr = int(len(X_current) * 0.8)\n",
        "        X_train, X_test = X_current[:train_size_curr], X_current[train_size_curr:]\n",
        "        Y_train, Y_test = Y_current[:train_size_curr], Y_current[train_size_curr:]\n",
        "\n",
        "        # Reformar la entrada a [muestras, time_steps, características] (3D)\n",
        "        X_train_reshaped = X_train.reshape(X_train.shape[0], X_train.shape[1], 1)\n",
        "        X_test_reshaped = X_test.reshape(X_test.shape[0], X_test.shape[1], 1)\n",
        "\n",
        "        for LSTM_UNITS in LSTM_UNITS_TO_TEST:\n",
        "            print(f\"  -> Probando: Time Step={TIME_STEP}, Unidades LSTM={LSTM_UNITS}\")\n",
        "\n",
        "            # 5. Construcción y Entrenamiento del Modelo\n",
        "            model = Sequential()\n",
        "            model.add(LSTM(LSTM_UNITS, activation='relu', input_shape=(TIME_STEP, 1)))\n",
        "            model.add(Dense(1))\n",
        "\n",
        "            model.compile(optimizer=Adam(learning_rate=0.001), loss='mse')\n",
        "\n",
        "            early_stop = EarlyStopping(monitor='val_loss', patience=10, verbose=0, mode='min', restore_best_weights=True)\n",
        "\n",
        "            history = model.fit(\n",
        "                X_train_reshaped, Y_train,\n",
        "                epochs=100,\n",
        "                batch_size=32,\n",
        "                validation_data=(X_test_reshaped, Y_test),\n",
        "                callbacks=[early_stop],\n",
        "                verbose=0\n",
        "            )\n",
        "\n",
        "            # 6. Evaluación\n",
        "            Y_pred_scaled = model.predict(X_test_reshaped, verbose=0)\n",
        "\n",
        "            # Invertir el escalado (para MAE y RMSE en mm)\n",
        "            dummy_pred = np.zeros((len(Y_pred_scaled), N_FEATURES))\n",
        "            dummy_pred[:, 0] = Y_pred_scaled.flatten()\n",
        "            Y_pred = scaler.inverse_transform(dummy_pred)[:, 0]\n",
        "\n",
        "            dummy_test = np.zeros((len(Y_test), N_FEATURES))\n",
        "            dummy_test[:, 0] = Y_test.flatten()\n",
        "            Y_actual = scaler.inverse_transform(dummy_test)[:, 0]\n",
        "\n",
        "            # Calcular métricas\n",
        "            mae = mean_absolute_error(Y_actual, Y_pred)\n",
        "            rmse = np.sqrt(mean_squared_error(Y_actual, Y_pred))\n",
        "\n",
        "            print(f\"     Resultado: MAE={mae:.4f} mm, RMSE={rmse:.4f} mm\")\n",
        "\n",
        "            # 7. Almacenar el mejor resultado\n",
        "            if mae < best_results[HORIZON]['mae']:\n",
        "                best_results[HORIZON]['mae'] = mae\n",
        "                best_results[HORIZON]['rmse'] = rmse\n",
        "                best_results[HORIZON]['time_step'] = TIME_STEP\n",
        "                best_results[HORIZON]['units'] = LSTM_UNITS\n",
        "\n"
      ],
      "metadata": {
        "colab": {
          "base_uri": "https://localhost:8080/"
        },
        "id": "niX_8MbQtYhC",
        "outputId": "0dbe42cf-a233-44b6-cbb2-0625943f643f"
      },
      "execution_count": 5,
      "outputs": [
        {
          "output_type": "stream",
          "name": "stdout",
          "text": [
            "🚀 Iniciando Búsqueda de Hiperparámetros (Grid Search)...\n",
            "\n",
            "=======================================================\n",
            "Búsqueda para Horizonte de Predicción: +3 día(s)\n",
            "=======================================================\n",
            "  -> Probando: Time Step=7, Unidades LSTM=50\n"
          ]
        },
        {
          "output_type": "stream",
          "name": "stderr",
          "text": [
            "/usr/local/lib/python3.12/dist-packages/keras/src/layers/rnn/rnn.py:199: UserWarning: Do not pass an `input_shape`/`input_dim` argument to a layer. When using Sequential models, prefer using an `Input(shape)` object as the first layer in the model instead.\n",
            "  super().__init__(**kwargs)\n"
          ]
        },
        {
          "output_type": "stream",
          "name": "stdout",
          "text": [
            "     Resultado: MAE=1.0300 mm, RMSE=2.6466 mm\n",
            "  -> Probando: Time Step=7, Unidades LSTM=100\n"
          ]
        },
        {
          "output_type": "stream",
          "name": "stderr",
          "text": [
            "/usr/local/lib/python3.12/dist-packages/keras/src/layers/rnn/rnn.py:199: UserWarning: Do not pass an `input_shape`/`input_dim` argument to a layer. When using Sequential models, prefer using an `Input(shape)` object as the first layer in the model instead.\n",
            "  super().__init__(**kwargs)\n"
          ]
        },
        {
          "output_type": "stream",
          "name": "stdout",
          "text": [
            "     Resultado: MAE=0.9634 mm, RMSE=2.5911 mm\n",
            "  -> Probando: Time Step=7, Unidades LSTM=150\n"
          ]
        },
        {
          "output_type": "stream",
          "name": "stderr",
          "text": [
            "/usr/local/lib/python3.12/dist-packages/keras/src/layers/rnn/rnn.py:199: UserWarning: Do not pass an `input_shape`/`input_dim` argument to a layer. When using Sequential models, prefer using an `Input(shape)` object as the first layer in the model instead.\n",
            "  super().__init__(**kwargs)\n"
          ]
        },
        {
          "output_type": "stream",
          "name": "stdout",
          "text": [
            "     Resultado: MAE=0.8896 mm, RMSE=2.5990 mm\n",
            "  -> Probando: Time Step=15, Unidades LSTM=50\n"
          ]
        },
        {
          "output_type": "stream",
          "name": "stderr",
          "text": [
            "/usr/local/lib/python3.12/dist-packages/keras/src/layers/rnn/rnn.py:199: UserWarning: Do not pass an `input_shape`/`input_dim` argument to a layer. When using Sequential models, prefer using an `Input(shape)` object as the first layer in the model instead.\n",
            "  super().__init__(**kwargs)\n"
          ]
        },
        {
          "output_type": "stream",
          "name": "stdout",
          "text": [
            "     Resultado: MAE=0.9530 mm, RMSE=2.5737 mm\n",
            "  -> Probando: Time Step=15, Unidades LSTM=100\n"
          ]
        },
        {
          "output_type": "stream",
          "name": "stderr",
          "text": [
            "/usr/local/lib/python3.12/dist-packages/keras/src/layers/rnn/rnn.py:199: UserWarning: Do not pass an `input_shape`/`input_dim` argument to a layer. When using Sequential models, prefer using an `Input(shape)` object as the first layer in the model instead.\n",
            "  super().__init__(**kwargs)\n"
          ]
        },
        {
          "output_type": "stream",
          "name": "stdout",
          "text": [
            "     Resultado: MAE=1.0588 mm, RMSE=2.5667 mm\n",
            "  -> Probando: Time Step=15, Unidades LSTM=150\n"
          ]
        },
        {
          "output_type": "stream",
          "name": "stderr",
          "text": [
            "/usr/local/lib/python3.12/dist-packages/keras/src/layers/rnn/rnn.py:199: UserWarning: Do not pass an `input_shape`/`input_dim` argument to a layer. When using Sequential models, prefer using an `Input(shape)` object as the first layer in the model instead.\n",
            "  super().__init__(**kwargs)\n"
          ]
        },
        {
          "output_type": "stream",
          "name": "stdout",
          "text": [
            "     Resultado: MAE=1.0490 mm, RMSE=2.5734 mm\n",
            "  -> Probando: Time Step=30, Unidades LSTM=50\n"
          ]
        },
        {
          "output_type": "stream",
          "name": "stderr",
          "text": [
            "/usr/local/lib/python3.12/dist-packages/keras/src/layers/rnn/rnn.py:199: UserWarning: Do not pass an `input_shape`/`input_dim` argument to a layer. When using Sequential models, prefer using an `Input(shape)` object as the first layer in the model instead.\n",
            "  super().__init__(**kwargs)\n"
          ]
        },
        {
          "output_type": "stream",
          "name": "stdout",
          "text": [
            "     Resultado: MAE=0.9830 mm, RMSE=2.5628 mm\n",
            "  -> Probando: Time Step=30, Unidades LSTM=100\n"
          ]
        },
        {
          "output_type": "stream",
          "name": "stderr",
          "text": [
            "/usr/local/lib/python3.12/dist-packages/keras/src/layers/rnn/rnn.py:199: UserWarning: Do not pass an `input_shape`/`input_dim` argument to a layer. When using Sequential models, prefer using an `Input(shape)` object as the first layer in the model instead.\n",
            "  super().__init__(**kwargs)\n"
          ]
        },
        {
          "output_type": "stream",
          "name": "stdout",
          "text": [
            "     Resultado: MAE=1.1436 mm, RMSE=2.5823 mm\n",
            "  -> Probando: Time Step=30, Unidades LSTM=150\n"
          ]
        },
        {
          "output_type": "stream",
          "name": "stderr",
          "text": [
            "/usr/local/lib/python3.12/dist-packages/keras/src/layers/rnn/rnn.py:199: UserWarning: Do not pass an `input_shape`/`input_dim` argument to a layer. When using Sequential models, prefer using an `Input(shape)` object as the first layer in the model instead.\n",
            "  super().__init__(**kwargs)\n"
          ]
        },
        {
          "output_type": "stream",
          "name": "stdout",
          "text": [
            "     Resultado: MAE=0.9275 mm, RMSE=2.5596 mm\n",
            "  -> Probando: Time Step=60, Unidades LSTM=50\n"
          ]
        },
        {
          "output_type": "stream",
          "name": "stderr",
          "text": [
            "/usr/local/lib/python3.12/dist-packages/keras/src/layers/rnn/rnn.py:199: UserWarning: Do not pass an `input_shape`/`input_dim` argument to a layer. When using Sequential models, prefer using an `Input(shape)` object as the first layer in the model instead.\n",
            "  super().__init__(**kwargs)\n"
          ]
        },
        {
          "output_type": "stream",
          "name": "stdout",
          "text": [
            "     Resultado: MAE=0.9705 mm, RMSE=2.5584 mm\n",
            "  -> Probando: Time Step=60, Unidades LSTM=100\n"
          ]
        },
        {
          "output_type": "stream",
          "name": "stderr",
          "text": [
            "/usr/local/lib/python3.12/dist-packages/keras/src/layers/rnn/rnn.py:199: UserWarning: Do not pass an `input_shape`/`input_dim` argument to a layer. When using Sequential models, prefer using an `Input(shape)` object as the first layer in the model instead.\n",
            "  super().__init__(**kwargs)\n"
          ]
        },
        {
          "output_type": "stream",
          "name": "stdout",
          "text": [
            "     Resultado: MAE=1.0416 mm, RMSE=2.5569 mm\n",
            "  -> Probando: Time Step=60, Unidades LSTM=150\n"
          ]
        },
        {
          "output_type": "stream",
          "name": "stderr",
          "text": [
            "/usr/local/lib/python3.12/dist-packages/keras/src/layers/rnn/rnn.py:199: UserWarning: Do not pass an `input_shape`/`input_dim` argument to a layer. When using Sequential models, prefer using an `Input(shape)` object as the first layer in the model instead.\n",
            "  super().__init__(**kwargs)\n"
          ]
        },
        {
          "output_type": "stream",
          "name": "stdout",
          "text": [
            "     Resultado: MAE=0.9801 mm, RMSE=2.5623 mm\n",
            "\n",
            "=======================================================\n",
            "Búsqueda para Horizonte de Predicción: +5 día(s)\n",
            "=======================================================\n",
            "  -> Probando: Time Step=7, Unidades LSTM=50\n"
          ]
        },
        {
          "output_type": "stream",
          "name": "stderr",
          "text": [
            "/usr/local/lib/python3.12/dist-packages/keras/src/layers/rnn/rnn.py:199: UserWarning: Do not pass an `input_shape`/`input_dim` argument to a layer. When using Sequential models, prefer using an `Input(shape)` object as the first layer in the model instead.\n",
            "  super().__init__(**kwargs)\n"
          ]
        },
        {
          "output_type": "stream",
          "name": "stdout",
          "text": [
            "     Resultado: MAE=1.1842 mm, RMSE=2.5892 mm\n",
            "  -> Probando: Time Step=7, Unidades LSTM=100\n"
          ]
        },
        {
          "output_type": "stream",
          "name": "stderr",
          "text": [
            "/usr/local/lib/python3.12/dist-packages/keras/src/layers/rnn/rnn.py:199: UserWarning: Do not pass an `input_shape`/`input_dim` argument to a layer. When using Sequential models, prefer using an `Input(shape)` object as the first layer in the model instead.\n",
            "  super().__init__(**kwargs)\n"
          ]
        },
        {
          "output_type": "stream",
          "name": "stdout",
          "text": [
            "     Resultado: MAE=1.2066 mm, RMSE=2.6109 mm\n",
            "  -> Probando: Time Step=7, Unidades LSTM=150\n"
          ]
        },
        {
          "output_type": "stream",
          "name": "stderr",
          "text": [
            "/usr/local/lib/python3.12/dist-packages/keras/src/layers/rnn/rnn.py:199: UserWarning: Do not pass an `input_shape`/`input_dim` argument to a layer. When using Sequential models, prefer using an `Input(shape)` object as the first layer in the model instead.\n",
            "  super().__init__(**kwargs)\n"
          ]
        },
        {
          "output_type": "stream",
          "name": "stdout",
          "text": [
            "     Resultado: MAE=1.4126 mm, RMSE=2.6179 mm\n",
            "  -> Probando: Time Step=15, Unidades LSTM=50\n"
          ]
        },
        {
          "output_type": "stream",
          "name": "stderr",
          "text": [
            "/usr/local/lib/python3.12/dist-packages/keras/src/layers/rnn/rnn.py:199: UserWarning: Do not pass an `input_shape`/`input_dim` argument to a layer. When using Sequential models, prefer using an `Input(shape)` object as the first layer in the model instead.\n",
            "  super().__init__(**kwargs)\n"
          ]
        },
        {
          "output_type": "stream",
          "name": "stdout",
          "text": [
            "     Resultado: MAE=1.0619 mm, RMSE=2.5832 mm\n",
            "  -> Probando: Time Step=15, Unidades LSTM=100\n"
          ]
        },
        {
          "output_type": "stream",
          "name": "stderr",
          "text": [
            "/usr/local/lib/python3.12/dist-packages/keras/src/layers/rnn/rnn.py:199: UserWarning: Do not pass an `input_shape`/`input_dim` argument to a layer. When using Sequential models, prefer using an `Input(shape)` object as the first layer in the model instead.\n",
            "  super().__init__(**kwargs)\n"
          ]
        },
        {
          "output_type": "stream",
          "name": "stdout",
          "text": [
            "     Resultado: MAE=0.7805 mm, RMSE=2.5974 mm\n",
            "  -> Probando: Time Step=15, Unidades LSTM=150\n"
          ]
        },
        {
          "output_type": "stream",
          "name": "stderr",
          "text": [
            "/usr/local/lib/python3.12/dist-packages/keras/src/layers/rnn/rnn.py:199: UserWarning: Do not pass an `input_shape`/`input_dim` argument to a layer. When using Sequential models, prefer using an `Input(shape)` object as the first layer in the model instead.\n",
            "  super().__init__(**kwargs)\n"
          ]
        },
        {
          "output_type": "stream",
          "name": "stdout",
          "text": [
            "     Resultado: MAE=1.1092 mm, RMSE=2.5747 mm\n",
            "  -> Probando: Time Step=30, Unidades LSTM=50\n"
          ]
        },
        {
          "output_type": "stream",
          "name": "stderr",
          "text": [
            "/usr/local/lib/python3.12/dist-packages/keras/src/layers/rnn/rnn.py:199: UserWarning: Do not pass an `input_shape`/`input_dim` argument to a layer. When using Sequential models, prefer using an `Input(shape)` object as the first layer in the model instead.\n",
            "  super().__init__(**kwargs)\n"
          ]
        },
        {
          "output_type": "stream",
          "name": "stdout",
          "text": [
            "     Resultado: MAE=0.9651 mm, RMSE=2.5535 mm\n",
            "  -> Probando: Time Step=30, Unidades LSTM=100\n"
          ]
        },
        {
          "output_type": "stream",
          "name": "stderr",
          "text": [
            "/usr/local/lib/python3.12/dist-packages/keras/src/layers/rnn/rnn.py:199: UserWarning: Do not pass an `input_shape`/`input_dim` argument to a layer. When using Sequential models, prefer using an `Input(shape)` object as the first layer in the model instead.\n",
            "  super().__init__(**kwargs)\n"
          ]
        },
        {
          "output_type": "stream",
          "name": "stdout",
          "text": [
            "     Resultado: MAE=0.8808 mm, RMSE=2.5614 mm\n",
            "  -> Probando: Time Step=30, Unidades LSTM=150\n"
          ]
        },
        {
          "output_type": "stream",
          "name": "stderr",
          "text": [
            "/usr/local/lib/python3.12/dist-packages/keras/src/layers/rnn/rnn.py:199: UserWarning: Do not pass an `input_shape`/`input_dim` argument to a layer. When using Sequential models, prefer using an `Input(shape)` object as the first layer in the model instead.\n",
            "  super().__init__(**kwargs)\n"
          ]
        },
        {
          "output_type": "stream",
          "name": "stdout",
          "text": [
            "     Resultado: MAE=0.9992 mm, RMSE=2.5666 mm\n",
            "  -> Probando: Time Step=60, Unidades LSTM=50\n"
          ]
        },
        {
          "output_type": "stream",
          "name": "stderr",
          "text": [
            "/usr/local/lib/python3.12/dist-packages/keras/src/layers/rnn/rnn.py:199: UserWarning: Do not pass an `input_shape`/`input_dim` argument to a layer. When using Sequential models, prefer using an `Input(shape)` object as the first layer in the model instead.\n",
            "  super().__init__(**kwargs)\n"
          ]
        },
        {
          "output_type": "stream",
          "name": "stdout",
          "text": [
            "     Resultado: MAE=0.9675 mm, RMSE=2.5602 mm\n",
            "  -> Probando: Time Step=60, Unidades LSTM=100\n"
          ]
        },
        {
          "output_type": "stream",
          "name": "stderr",
          "text": [
            "/usr/local/lib/python3.12/dist-packages/keras/src/layers/rnn/rnn.py:199: UserWarning: Do not pass an `input_shape`/`input_dim` argument to a layer. When using Sequential models, prefer using an `Input(shape)` object as the first layer in the model instead.\n",
            "  super().__init__(**kwargs)\n"
          ]
        },
        {
          "output_type": "stream",
          "name": "stdout",
          "text": [
            "     Resultado: MAE=1.0540 mm, RMSE=2.5539 mm\n",
            "  -> Probando: Time Step=60, Unidades LSTM=150\n"
          ]
        },
        {
          "output_type": "stream",
          "name": "stderr",
          "text": [
            "/usr/local/lib/python3.12/dist-packages/keras/src/layers/rnn/rnn.py:199: UserWarning: Do not pass an `input_shape`/`input_dim` argument to a layer. When using Sequential models, prefer using an `Input(shape)` object as the first layer in the model instead.\n",
            "  super().__init__(**kwargs)\n"
          ]
        },
        {
          "output_type": "stream",
          "name": "stdout",
          "text": [
            "     Resultado: MAE=1.0337 mm, RMSE=2.5586 mm\n"
          ]
        }
      ]
    },
    {
      "cell_type": "code",
      "source": [
        "# --- 8. Resumen de Resultados ---\n",
        "\n",
        "print(\"\\n\\n✅ **RESUMEN DE LA OPTIMIZACIÓN DE HIPERPARÁMETROS**\")\n",
        "print(\"=====================================================\")\n",
        "\n",
        "for HORIZON in FORECAST_HORIZONS:\n",
        "    best = best_results[HORIZON]\n",
        "    print(f\"\\n### Resultados Óptimos para Predicción de +{HORIZON} Días\")\n",
        "    print(f\"* **MAE Mínimo:** {best['mae']:.4f} mm\")\n",
        "    print(f\"* **RMSE:** {best['rmse']:.4f} mm\")\n",
        "    print(f\"* **Mejor TIME_STEP (Ventana de Entrada):** {best['time_step']} días\")\n",
        "    print(f\"* **Mejores Unidades LSTM:** {best['units']}\")\n",
        "    print(\"-----------------------------------------------------\")"
      ],
      "metadata": {
        "colab": {
          "base_uri": "https://localhost:8080/"
        },
        "id": "kayGDJR_tdy9",
        "outputId": "e2399cdd-db33-43a1-9034-8f67edaf75e5"
      },
      "execution_count": 6,
      "outputs": [
        {
          "output_type": "stream",
          "name": "stdout",
          "text": [
            "\n",
            "\n",
            "✅ **RESUMEN DE LA OPTIMIZACIÓN DE HIPERPARÁMETROS**\n",
            "=====================================================\n",
            "\n",
            "### Resultados Óptimos para Predicción de +3 Días\n",
            "* **MAE Mínimo:** 0.8896 mm\n",
            "* **RMSE:** 2.5990 mm\n",
            "* **Mejor TIME_STEP (Ventana de Entrada):** 7 días\n",
            "* **Mejores Unidades LSTM:** 150\n",
            "-----------------------------------------------------\n",
            "\n",
            "### Resultados Óptimos para Predicción de +5 Días\n",
            "* **MAE Mínimo:** 0.7805 mm\n",
            "* **RMSE:** 2.5974 mm\n",
            "* **Mejor TIME_STEP (Ventana de Entrada):** 15 días\n",
            "* **Mejores Unidades LSTM:** 100\n",
            "-----------------------------------------------------\n"
          ]
        }
      ]
    }
  ]
}