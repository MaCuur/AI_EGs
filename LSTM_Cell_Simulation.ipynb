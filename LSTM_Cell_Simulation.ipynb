{
  "cells": [
    {
      "cell_type": "markdown",
      "metadata": {
        "id": "view-in-github",
        "colab_type": "text"
      },
      "source": [
        "<a href=\"https://colab.research.google.com/github/MaCuur/AI_EGs/blob/main/LSTM_Cell_Simulation.ipynb\" target=\"_parent\"><img src=\"https://colab.research.google.com/assets/colab-badge.svg\" alt=\"Open In Colab\"/></a>"
      ]
    },
    {
      "cell_type": "markdown",
      "id": "267be181",
      "metadata": {
        "id": "267be181"
      },
      "source": [
        "# 📘 Simulación de una Célula LSTM\n",
        "Este notebook muestra el funcionamiento básico de una celda LSTM, modelando su paso de propagación hacia adelante de forma simplificada."
      ]
    },
    {
      "cell_type": "code",
      "execution_count": 1,
      "id": "aac3115d",
      "metadata": {
        "id": "aac3115d"
      },
      "outputs": [],
      "source": [
        "# ============================================================\n",
        "# 🧩 Definición de funciones y capas auxiliares\n",
        "# ============================================================\n",
        "import numpy as np\n",
        "\n",
        "# Funciones activación\n",
        "def sigmoid(x):\n",
        "    return 1 / (1 + np.exp(-x))\n",
        "\n",
        "def tanh(x):\n",
        "    return np.tanh(x)\n",
        "\n",
        "# Capas simplificadas (placeholders para demostración)\n",
        "def forget_layer(x):\n",
        "    return sigmoid(x)\n",
        "\n",
        "def candidate_layer(x):\n",
        "    return tanh(x)\n",
        "\n",
        "def input_layer(x):\n",
        "    return sigmoid(x)\n",
        "\n",
        "def output_layer(x):\n",
        "    return sigmoid(x)"
      ]
    },
    {
      "cell_type": "code",
      "execution_count": 2,
      "id": "0dea7d12",
      "metadata": {
        "id": "0dea7d12"
      },
      "outputs": [],
      "source": [
        "# ============================================================\n",
        "# 🔢 Definición de la celda LSTM\n",
        "# ============================================================\n",
        "def LSTMCELL(prev_ct, prev_ht, input):\n",
        "    combine = prev_ht + input\n",
        "    ft = forget_layer(combine)\n",
        "    candidate = candidate_layer(combine)\n",
        "    it = input_layer(combine)\n",
        "    Ct = prev_ct * ft + candidate * it\n",
        "    ot = output_layer(combine)\n",
        "    ht = ot * tanh(Ct)\n",
        "    return ht, Ct"
      ]
    },
    {
      "cell_type": "code",
      "execution_count": 3,
      "id": "7c8af1b4",
      "metadata": {
        "colab": {
          "base_uri": "https://localhost:8080/"
        },
        "id": "7c8af1b4",
        "outputId": "e0b5eb20-8006-47c1-82f2-723f089281af"
      },
      "outputs": [
        {
          "output_type": "stream",
          "name": "stdout",
          "text": [
            "Estado inicial:\n",
            "ct: [0. 0. 0.]\n",
            "ht: [0. 0. 0.]\n"
          ]
        }
      ],
      "source": [
        "# ============================================================\n",
        "# 🧮 Datos de entrada simulados\n",
        "# ============================================================\n",
        "inputs = [np.array([0.1, 0.2, 0.3]), np.array([0.5, 0.1, 0.4]), np.array([0.3, 0.6, 0.2])]\n",
        "ct = np.zeros(3)\n",
        "ht = np.zeros(3)\n",
        "\n",
        "print(\"Estado inicial:\")\n",
        "print(\"ct:\", ct)\n",
        "print(\"ht:\", ht)"
      ]
    },
    {
      "cell_type": "code",
      "execution_count": 4,
      "id": "70e00c24",
      "metadata": {
        "colab": {
          "base_uri": "https://localhost:8080/"
        },
        "id": "70e00c24",
        "outputId": "7bcb7d0a-df0f-428d-fb14-939f6ff5addc"
      },
      "outputs": [
        {
          "output_type": "stream",
          "name": "stdout",
          "text": [
            "Paso 1:\n",
            "Input: [0.1 0.2 0.3]\n",
            "ct: [0.05232362 0.10852366 0.16734235]\n",
            "ht: [0.02744377 0.05943684 0.09524119]\n",
            "------------\n",
            "Paso 2:\n",
            "Input: [0.5 0.1 0.4]\n",
            "ct: [0.33692499 0.1439165  0.38877808]\n",
            "ht: [0.204218   0.07715061 0.23008627]\n",
            "------------\n",
            "Paso 3:\n",
            "Input: [0.3 0.6 0.2]\n",
            "ct: [0.50022697 0.48643894 0.48118395]\n",
            "ht: [0.28821825 0.29931483 0.27095064]\n",
            "------------\n"
          ]
        }
      ],
      "source": [
        "# ============================================================\n",
        "# 🚀 Ejecución de la celda LSTM a lo largo de la secuencia\n",
        "# ============================================================\n",
        "for i, input_vec in enumerate(inputs):\n",
        "    ht, ct = LSTMCELL(ct, ht, input_vec)\n",
        "    print(f\"Paso {i+1}:\")\n",
        "    print(\"Input:\", input_vec)\n",
        "    print(\"ct:\", ct)\n",
        "    print(\"ht:\", ht)\n",
        "    print(\"------------\")"
      ]
    },
    {
      "cell_type": "code",
      "execution_count": 5,
      "id": "a7b2cb22",
      "metadata": {
        "colab": {
          "base_uri": "https://localhost:8080/"
        },
        "id": "a7b2cb22",
        "outputId": "fac82225-8ef6-4863-8faa-9b1f04bfcae5"
      },
      "outputs": [
        {
          "output_type": "stream",
          "name": "stdout",
          "text": [
            "Resultados finales:\n",
            "Último estado oculto (ht): [0.28821825 0.29931483 0.27095064]\n",
            "Último estado de la celda (ct): [0.50022697 0.48643894 0.48118395]\n"
          ]
        }
      ],
      "source": [
        "# ============================================================\n",
        "# 📊 Resultados finales\n",
        "# ============================================================\n",
        "print(\"Resultados finales:\")\n",
        "print(\"Último estado oculto (ht):\", ht)\n",
        "print(\"Último estado de la celda (ct):\", ct)"
      ]
    }
  ],
  "metadata": {
    "colab": {
      "provenance": [],
      "include_colab_link": true
    },
    "language_info": {
      "name": "python"
    },
    "kernelspec": {
      "name": "python3",
      "display_name": "Python 3"
    }
  },
  "nbformat": 4,
  "nbformat_minor": 5
}