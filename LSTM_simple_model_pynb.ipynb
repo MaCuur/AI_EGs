{
  "nbformat": 4,
  "nbformat_minor": 0,
  "metadata": {
    "colab": {
      "provenance": [],
      "authorship_tag": "ABX9TyMJXDeaCQGQqiPAq6JjLnNg",
      "include_colab_link": true
    },
    "kernelspec": {
      "name": "python3",
      "display_name": "Python 3"
    },
    "language_info": {
      "name": "python"
    }
  },
  "cells": [
    {
      "cell_type": "markdown",
      "metadata": {
        "id": "view-in-github",
        "colab_type": "text"
      },
      "source": [
        "<a href=\"https://colab.research.google.com/github/MaCuur/AI_EGs/blob/main/LSTM_simple_model_pynb.ipynb\" target=\"_parent\"><img src=\"https://colab.research.google.com/assets/colab-badge.svg\" alt=\"Open In Colab\"/></a>"
      ]
    },
    {
      "cell_type": "code",
      "execution_count": 1,
      "metadata": {
        "id": "-aBCtwkGJFMh"
      },
      "outputs": [],
      "source": [
        "import numpy as np\n",
        "from tensorflow.keras.models import Sequential\n",
        "from tensorflow.keras.layers import LSTM, Dense\n"
      ]
    },
    {
      "cell_type": "code",
      "source": [
        "# 1. Prepare the Data\n",
        "# Let's create a simple sequence for demonstration\n",
        "data = np.array([i/10 for i in range(100)]) # Example: 0.0, 0.1, 0.2, ... 9.9\n",
        "target = np.array([i/10 + 0.1 for i in range(100)]) # Example: 0.1, 0.2, 0.3, ... 10.0\n",
        "\n"
      ],
      "metadata": {
        "id": "L8-kyl5rJTM-"
      },
      "execution_count": 2,
      "outputs": []
    },
    {
      "cell_type": "code",
      "source": [
        "# Reshape data for LSTM input: (samples, timesteps, features)\n",
        "# For a single feature and single timestep per sample, it's (num_samples, 1, 1)\n",
        "X = data[:-1].reshape(-1, 1, 1)\n",
        "y = target[1:].reshape(-1, 1)\n"
      ],
      "metadata": {
        "id": "MfIZQfdyJXMa"
      },
      "execution_count": 3,
      "outputs": []
    },
    {
      "cell_type": "code",
      "source": [
        "# 2. Build the LSTM Model\n",
        "model = Sequential()\n",
        "# Add an LSTM layer with 50 units. input_shape specifies (timesteps, features)\n",
        "model.add(LSTM(50, activation='relu', input_shape=(1, 1)))\n",
        "# Add a Dense (output) layer\n",
        "model.add(Dense(1))\n",
        "\n"
      ],
      "metadata": {
        "colab": {
          "base_uri": "https://localhost:8080/"
        },
        "id": "CI6741AGJbrZ",
        "outputId": "dc7c7ca8-bf69-4ec8-fbf2-c02fd7bdce7b"
      },
      "execution_count": 4,
      "outputs": [
        {
          "output_type": "stream",
          "name": "stderr",
          "text": [
            "/usr/local/lib/python3.12/dist-packages/keras/src/layers/rnn/rnn.py:199: UserWarning: Do not pass an `input_shape`/`input_dim` argument to a layer. When using Sequential models, prefer using an `Input(shape)` object as the first layer in the model instead.\n",
            "  super().__init__(**kwargs)\n"
          ]
        }
      ]
    },
    {
      "cell_type": "code",
      "source": [
        "# 3. Compile the Model\n",
        "model.compile(optimizer='adam', loss='mse') # Adam optimizer, Mean Squared Error loss\n",
        "\n"
      ],
      "metadata": {
        "id": "Kjk7iwrgJeLA"
      },
      "execution_count": 5,
      "outputs": []
    },
    {
      "cell_type": "code",
      "source": [
        "# 4. Train the Model\n",
        "model.fit(X, y, epochs=100, verbose=0) # Train for 100 epochs, suppress output\n"
      ],
      "metadata": {
        "colab": {
          "base_uri": "https://localhost:8080/"
        },
        "id": "Vu41OEysJfwv",
        "outputId": "882fdbf6-5b4b-45f6-852a-528c2a09c297"
      },
      "execution_count": 6,
      "outputs": [
        {
          "output_type": "execute_result",
          "data": {
            "text/plain": [
              "<keras.src.callbacks.history.History at 0x7f70267aab40>"
            ]
          },
          "metadata": {},
          "execution_count": 6
        }
      ]
    },
    {
      "cell_type": "code",
      "source": [
        "# 5. Make Predictions (Optional)\n",
        "# Predict the next value for a new input\n",
        "new_input = np.array([10.0]).reshape(1, 1, 1)\n",
        "prediction = model.predict(new_input)\n",
        "print(f\"Prediction for 10.0: {prediction[0][0]:.2f}\")"
      ],
      "metadata": {
        "colab": {
          "base_uri": "https://localhost:8080/"
        },
        "id": "UIBd4pz7JiVM",
        "outputId": "d937928e-e468-4ce2-fb61-0b465e0f313c"
      },
      "execution_count": 7,
      "outputs": [
        {
          "output_type": "stream",
          "name": "stdout",
          "text": [
            "\u001b[1m1/1\u001b[0m \u001b[32m━━━━━━━━━━━━━━━━━━━━\u001b[0m\u001b[37m\u001b[0m \u001b[1m0s\u001b[0m 166ms/step\n",
            "Prediction for 10.0: 11.01\n"
          ]
        }
      ]
    }
  ]
}